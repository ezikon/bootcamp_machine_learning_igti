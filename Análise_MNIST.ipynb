{
  "nbformat": 4,
  "nbformat_minor": 0,
  "metadata": {
    "colab": {
      "name": "Análise MNIST.ipynb",
      "provenance": [],
      "authorship_tag": "ABX9TyMk+JNS25/kRgXKl+oZ3g5w",
      "include_colab_link": true
    },
    "kernelspec": {
      "name": "python3",
      "display_name": "Python 3"
    }
  },
  "cells": [
    {
      "cell_type": "markdown",
      "metadata": {
        "id": "view-in-github",
        "colab_type": "text"
      },
      "source": [
        "<a href=\"https://colab.research.google.com/github/ezikon/bootcamp_machine_learning_igti/blob/master/An%C3%A1lise_MNIST.ipynb\" target=\"_parent\"><img src=\"https://colab.research.google.com/assets/colab-badge.svg\" alt=\"Open In Colab\"/></a>"
      ]
    },
    {
      "cell_type": "code",
      "metadata": {
        "id": "t41IhBF-m0Gt",
        "colab_type": "code",
        "colab": {
          "base_uri": "https://localhost:8080/",
          "height": 51
        },
        "outputId": "28e0e9ea-b65a-4ac9-ff14-fd4f6211283e"
      },
      "source": [
        "import tensorflow as tf\n",
        "(x_train, y_train), (x_test, y_test) = tf.keras.datasets.mnist.load_data()"
      ],
      "execution_count": 1,
      "outputs": [
        {
          "output_type": "stream",
          "text": [
            "Downloading data from https://storage.googleapis.com/tensorflow/tf-keras-datasets/mnist.npz\n",
            "11493376/11490434 [==============================] - 0s 0us/step\n"
          ],
          "name": "stdout"
        }
      ]
    },
    {
      "cell_type": "code",
      "metadata": {
        "id": "xsXx5JFHtWmF",
        "colab_type": "code",
        "colab": {
          "base_uri": "https://localhost:8080/",
          "height": 299
        },
        "outputId": "919a6954-eb99-4e3d-e84e-a1e15cdd9d15"
      },
      "source": [
        "import matplotlib.pyplot as plt\n",
        "%matplotlib inline\n",
        "image_index = 9000 # Selecionando uma imagem qualquer\n",
        "print(y_train[image_index]) # y_train, y_test contém os labels de 0 a 9\n",
        "plt.imshow(x_train[image_index], cmap='Greys')"
      ],
      "execution_count": 5,
      "outputs": [
        {
          "output_type": "stream",
          "text": [
            "6\n"
          ],
          "name": "stdout"
        },
        {
          "output_type": "execute_result",
          "data": {
            "text/plain": [
              "<matplotlib.image.AxesImage at 0x7f934ab3aa90>"
            ]
          },
          "metadata": {
            "tags": []
          },
          "execution_count": 5
        },
        {
          "output_type": "display_data",
          "data": {
            "image/png": "[encoded data removed]",
            "text/plain": [
              "<Figure size 432x288 with 1 Axes>"
            ]
          },
          "metadata": {
            "tags": [],
            "needs_background": "light"
          }
        }
      ]
    },
    {
      "cell_type": "code",
      "metadata": {
        "id": "14GiOubfup0X",
        "colab_type": "code",
        "colab": {
          "base_uri": "https://localhost:8080/",
          "height": 34
        },
        "outputId": "f0cf5a1e-b0ee-4aaf-9de1-598750ac4ec2"
      },
      "source": [
        "x_train.shape"
      ],
      "execution_count": 6,
      "outputs": [
        {
          "output_type": "execute_result",
          "data": {
            "text/plain": [
              "(60000, 28, 28)"
            ]
          },
          "metadata": {
            "tags": []
          },
          "execution_count": 6
        }
      ]
    },
    {
      "cell_type": "code",
      "metadata": {
        "id": "g5jIrj1zt9Nb",
        "colab_type": "code",
        "colab": {
          "base_uri": "https://localhost:8080/",
          "height": 68
        },
        "outputId": "48dff236-9089-413a-e511-e239e8016000"
      },
      "source": [
        "# Fazendo o reshape para 4 dimensões, pois é um requisito da API do Keras (nosso\n",
        "# array tem 3 dimensões)\n",
        "\n",
        "x_train = x_train.reshape(x_train.shape[0], 28, 28, 1)\n",
        "x_test = x_test.reshape(x_test.shape[0], 28, 28, 1)\n",
        "input_shape = (28, 28, 1)\n",
        "\n",
        "# Conversão para tipo float para obtermos casas decimais após\n",
        "# a divisão\n",
        "\n",
        "x_train = x_train.astype('float32')\n",
        "x_test = x_test.astype('float32')\n",
        "\n",
        "# Normalizando os códigos RGB dividindo-os ao valor RGB máximo\n",
        "\n",
        "x_train /= 255\n",
        "x_test /= 255\n",
        "print('x_train shape: ', x_train.shape)\n",
        "print('Número de imagens em x_train: ', x_train.shape[0])\n",
        "print('Número de imagens em x_test: ', x_test.shape[0])"
      ],
      "execution_count": 8,
      "outputs": [
        {
          "output_type": "stream",
          "text": [
            "x_train shape:  (60000, 28, 28, 1)\n",
            "Número de imagens em x_train:  60000\n",
            "Número de imagens em x_test:  10000\n"
          ],
          "name": "stdout"
        }
      ]
    },
    {
      "cell_type": "code",
      "metadata": {
        "id": "bHj34tPGwUe2",
        "colab_type": "code",
        "colab": {}
      },
      "source": [
        "# Importando os módulos Keras contendo os modelos e camadas\n",
        "\n",
        "from keras.models import Sequential\n",
        "from keras.layers import Dense, Conv2D, Dropout, Flatten, MaxPooling2D\n",
        "\n",
        "# Instanciando o Sequential Model e adicionando as camadas\n",
        "\n",
        "model = Sequential()\n",
        "model.add(Conv2D(28, kernel_size=(3,3), input_shape=input_shape))\n",
        "model.add(MaxPooling2D(pool_size=(2,2)))\n",
        "model.add(Flatten()) \n",
        "model.add(Dense(128, activation=tf.nn.relu))\n",
        "model.add(Dropout(0.2))\n",
        "model.add(Dense(10, activation=tf.nn.softmax))"
      ],
      "execution_count": 9,
      "outputs": []
    },
    {
      "cell_type": "code",
      "metadata": {
        "id": "RSUy461MyiRG",
        "colab_type": "code",
        "colab": {
          "base_uri": "https://localhost:8080/",
          "height": 374
        },
        "outputId": "72ac0250-5669-4ab1-bfb8-6c64ed67b3da"
      },
      "source": [
        "# Compilando e fazendo o fit do modelo\n",
        "\n",
        "model.compile(optimizer='adam', loss='sparse_categorical_crossentropy',\n",
        "              metrics=['accuracy'])\n",
        "model.fit(x=x_train, y=y_train, epochs=10)"
      ],
      "execution_count": 12,
      "outputs": [
        {
          "output_type": "stream",
          "text": [
            "Epoch 1/10\n",
            "60000/60000 [==============================] - 37s 614us/step - loss: 0.2147 - accuracy: 0.9358\n",
            "Epoch 2/10\n",
            "60000/60000 [==============================] - 37s 611us/step - loss: 0.0855 - accuracy: 0.9736\n",
            "Epoch 3/10\n",
            "60000/60000 [==============================] - 36s 606us/step - loss: 0.0602 - accuracy: 0.9806\n",
            "Epoch 4/10\n",
            "60000/60000 [==============================] - 37s 610us/step - loss: 0.0455 - accuracy: 0.9851\n",
            "Epoch 5/10\n",
            "60000/60000 [==============================] - 37s 611us/step - loss: 0.0351 - accuracy: 0.9884\n",
            "Epoch 6/10\n",
            "60000/60000 [==============================] - 37s 611us/step - loss: 0.0295 - accuracy: 0.9899\n",
            "Epoch 7/10\n",
            "60000/60000 [==============================] - 37s 618us/step - loss: 0.0255 - accuracy: 0.9911\n",
            "Epoch 8/10\n",
            "60000/60000 [==============================] - 38s 629us/step - loss: 0.0227 - accuracy: 0.9923\n",
            "Epoch 9/10\n",
            "60000/60000 [==============================] - 38s 631us/step - loss: 0.0220 - accuracy: 0.9923\n",
            "Epoch 10/10\n",
            "60000/60000 [==============================] - 39s 651us/step - loss: 0.0184 - accuracy: 0.9934\n"
          ],
          "name": "stdout"
        },
        {
          "output_type": "execute_result",
          "data": {
            "text/plain": [
              "<keras.callbacks.callbacks.History at 0x7f934339cd68>"
            ]
          },
          "metadata": {
            "tags": []
          },
          "execution_count": 12
        }
      ]
    },
    {
      "cell_type": "code",
      "metadata": {
        "id": "yjyv3h4k0HTR",
        "colab_type": "code",
        "colab": {
          "base_uri": "https://localhost:8080/",
          "height": 51
        },
        "outputId": "6b34fd5a-0aa5-426c-869d-506ab822f5db"
      },
      "source": [
        "# Avaliando o modelo\n",
        "\n",
        "model.evaluate(x_test, y_test)"
      ],
      "execution_count": 13,
      "outputs": [
        {
          "output_type": "stream",
          "text": [
            "10000/10000 [==============================] - 2s 203us/step\n"
          ],
          "name": "stdout"
        },
        {
          "output_type": "execute_result",
          "data": {
            "text/plain": [
              "[0.057688510052273156, 0.9857000112533569]"
            ]
          },
          "metadata": {
            "tags": []
          },
          "execution_count": 13
        }
      ]
    },
    {
      "cell_type": "code",
      "metadata": {
        "id": "Ls56LbLf12ah",
        "colab_type": "code",
        "colab": {
          "base_uri": "https://localhost:8080/",
          "height": 282
        },
        "outputId": "76bb9a13-4a55-44c6-87c6-c557f1a75238"
      },
      "source": [
        "image_index = 6325\n",
        "plt.imshow(x_test[image_index].reshape(28, 28),cmap='Greys')\n",
        "pred = model.predict(x_test[image_index].reshape(1, 28, 28, 1))\n",
        "print(pred.argmax())"
      ],
      "execution_count": 32,
      "outputs": [
        {
          "output_type": "stream",
          "text": [
            "6\n"
          ],
          "name": "stdout"
        },
        {
          "output_type": "display_data",
          "data": {
            "image/png": "[encoded data removed]",
            "text/plain": [
              "<Figure size 432x288 with 1 Axes>"
            ]
          },
          "metadata": {
            "tags": [],
            "needs_background": "light"
          }
        }
      ]
    },
    {
      "cell_type": "code",
      "metadata": {
        "id": "MxhNAOJQ2Bfa",
        "colab_type": "code",
        "colab": {}
      },
      "source": [
        ""
      ],
      "execution_count": null,
      "outputs": []
    }
  ]
}